{
  "nbformat": 4,
  "nbformat_minor": 0,
  "metadata": {
    "colab": {
      "provenance": [],
      "authorship_tag": "ABX9TyNM2v+/RrFI0RVSODGLPZK5",
      "include_colab_link": true
    },
    "kernelspec": {
      "name": "python3",
      "display_name": "Python 3"
    },
    "language_info": {
      "name": "python"
    }
  },
  "cells": [
    {
      "cell_type": "markdown",
      "metadata": {
        "id": "view-in-github",
        "colab_type": "text"
      },
      "source": [
        "<a href=\"https://colab.research.google.com/github/Abeginner92/Abeginner92/blob/main/Exerc%C3%ADcio_G_University_S7_A10_Exerc%C3%ADcios.ipynb\" target=\"_parent\"><img src=\"https://colab.research.google.com/assets/colab-badge.svg\" alt=\"Open In Colab\"/></a>"
      ]
    },
    {
      "cell_type": "markdown",
      "source": [
        "# Crie um programa que **tenha uma função** que **recebe** um parâmetro **inteiro** e **devolve o seu dobro**"
      ],
      "metadata": {
        "id": "ZoVEK_YDeKI3"
      }
    },
    {
      "cell_type": "code",
      "source": [
        "# Minha versão\n",
        "\n",
        "# Declaração da função \"devolve_dobro\"\n",
        "def devolve_dobro():\n",
        "\n",
        "  # Parâmetro \"valor\" irá receber uma entrada contendo um número inteiro\n",
        "  valor = int(input('Digite um valor: '))\n",
        "\n",
        "  # Parâmetro \"dobro\" será equivalente ao \"valor\" multiplicado por 2\n",
        "  dobro = valor * 2\n",
        "\n",
        "  # Retorno será entregue ao usuário através de um print utilizando f strings\n",
        "  print(f'O dobro de {valor} é {dobro}')\n"
      ],
      "metadata": {
        "id": "tlaR1G5KN0Vn"
      },
      "execution_count": 8,
      "outputs": []
    },
    {
      "cell_type": "code",
      "source": [
        "# Executando minha versão\n",
        "devolve_dobro()\n"
      ],
      "metadata": {
        "colab": {
          "base_uri": "https://localhost:8080/"
        },
        "id": "-WNrWNf0hAnN",
        "outputId": "3265c59b-aa13-47ca-ddc2-90a9f3a3829a"
      },
      "execution_count": 2,
      "outputs": [
        {
          "output_type": "stream",
          "name": "stdout",
          "text": [
            "Digite um valor: 5\n",
            "O dobro de 5 é 10\n"
          ]
        }
      ]
    },
    {
      "cell_type": "code",
      "source": [
        "# Gabarito\n",
        "\n",
        "# Função \"dobro\" recebe o parâmetro \"numero\" que deverá ser um int (número inteiro)\n",
        "def dobro(numero: int) -> int:\n",
        "\n",
        "  # A função retornará o parâmetro \"numero\" multiplicado por 2\n",
        "  return numero *2\n",
        "\n",
        "# Bloco de execução que protegerá o arquivo do programa original\n",
        "if __name__ == '__main__':\n",
        "\n",
        "  # Atribuindo um valor inteiro\n",
        "  valor: int = 20\n",
        "\n",
        "  # Valor atribuído será recebido pela função e multiplicado por 2\n",
        "  print(f'O dobro de {valor} é {dobro(valor)}')"
      ],
      "metadata": {
        "colab": {
          "base_uri": "https://localhost:8080/"
        },
        "id": "sMZji8Jnq3o8",
        "outputId": "ee188a7b-4aca-41c9-8cde-ad4f5cc0f486"
      },
      "execution_count": 10,
      "outputs": [
        {
          "output_type": "stream",
          "name": "stdout",
          "text": [
            "O dobro de 20 é 40\n"
          ]
        }
      ]
    },
    {
      "cell_type": "markdown",
      "source": [
        "# Crie um programa que **tenha uma função** que **recebe** uma data no **formato string,** exemplo \"01/01/2024\", e **imprima ela por extenso** como \"1 de janeiro de 2024\""
      ],
      "metadata": {
        "id": "1CV2W-_Begk3"
      }
    },
    {
      "cell_type": "code",
      "source": [
        "# Minha versão\n",
        "\n",
        "# Declarando a função \"data_por_extenso\"\n",
        "def data_por_extenso():\n",
        "\n",
        "  # Parâmetro \"data_string\" recebe uma entrada contendo string\n",
        "  data_string = input('Digite uma data no formato dd/mm/aaaa: ')\n",
        "\n",
        "  # Utilizando o método \".split\" para separar a entrada recebida no \"data_string\", através do delimitador \"/\"\n",
        "  data_lista = data_string.split('/')\n",
        "\n",
        "  # Declarando a posição de cada uma das partes dentro da lista criada com o método \".split\"\n",
        "  dia = data_lista[0]\n",
        "  mes = data_lista[1]\n",
        "  ano = data_lista[2]\n",
        "\n",
        "  # Atribuindo um dicionário de que será utilizado para consulta do meses informados pelo usuário\n",
        "  meses = {\n",
        "        \"01\": \"janeiro\",\n",
        "        \"02\": \"fevereiro\",\n",
        "        \"03\": \"março\",\n",
        "        \"04\": \"abril\",\n",
        "        \"05\": \"maio\",\n",
        "        \"06\": \"junho\",\n",
        "        \"07\": \"julho\",\n",
        "        \"08\": \"agosto\",\n",
        "        \"09\": \"setembro\",\n",
        "        \"10\": \"outubro\",\n",
        "        \"11\": \"novembro\",\n",
        "        \"12\": \"dezembro\"\n",
        "    }\n",
        "\n",
        "  # Por fim, printar na tela a data por extenso com a função \"print\".\n",
        "  # \"f strings\" vai buscar em cada uma das posições informadas a correspondência adequada\n",
        "  print(f'{dia} de {meses[mes]} de {ano}')\n"
      ],
      "metadata": {
        "id": "SGThTPaxaAOY"
      },
      "execution_count": 15,
      "outputs": []
    },
    {
      "cell_type": "code",
      "source": [
        "data_por_extenso()"
      ],
      "metadata": {
        "id": "asNL9A7Gzi0O"
      },
      "execution_count": null,
      "outputs": []
    },
    {
      "cell_type": "code",
      "source": [],
      "metadata": {
        "id": "oQLSIY_xnhwf"
      },
      "execution_count": null,
      "outputs": []
    },
    {
      "cell_type": "code",
      "source": [
        "# Gabarito\n",
        "\n",
        "# Declarando a função que receberá uma string - sem retorno (None)\n",
        "def data_por_extenso(data: str) -> None:\n",
        "\n",
        "  # Utilizando o método \".split\" para criar uma lista atribuída a variável \"d\" ('dia','mes','ano' )\n",
        "  d = data.split('/')\n",
        "\n",
        "  # Utilizando a função \"int()\" para converter as strings em inteiros e acessar os elemento utilizando indexação\n",
        "  dia: int = int(d[0])\n",
        "  mes: int = int(d[1])\n",
        "  ano: int = int(d[2])\n",
        "\n",
        "\n",
        "  # Aplicando estruturas condicionais para tomada de decisões onde:\n",
        "  if mes == 1:\n",
        "    # Se o mes informado for igual (==) a 1, o valor 'janeiro' será atribuido a variável \"mes_str\"\n",
        "    mes_str = 'janeiro'\n",
        "\n",
        "  # O mesmo se repete para todos os \"elifs\" conseguintes\n",
        "  elif mes == 2:\n",
        "    mes_str = 'fevereiro'\n",
        "  elif mes == 3:\n",
        "    mes_str = 'março'\n",
        "  elif mes == 4:\n",
        "    mes_str = 'abril'\n",
        "  elif mes == 5:\n",
        "    mes_str = 'maio'\n",
        "  elif mes == 6:\n",
        "    mes_str = 'junho'\n",
        "  elif mes == 7:\n",
        "    mes_str = 'julho'\n",
        "  elif mes == 8:\n",
        "    mes_str = 'agosto'\n",
        "  elif mes == 9:\n",
        "    mes_str = 'setembro'\n",
        "  elif mes == 10:\n",
        "    mes_str = 'outubro'\n",
        "  elif mes == 11:\n",
        "    mes_str = 'novembro'\n",
        "  elif mes == 12:\n",
        "    mes_str = 'dezembro'\n",
        "\n",
        "  # Se o valor informado for inválido ou não se encontrar nesta lista, será retornado uma mensagem negativa\n",
        "  else:\n",
        "    mes_str = print('data inválida')\n",
        "\n",
        "  # Exibe na tela a data completa por extenso, combinando dia, mes_str e ano\n",
        "  print(f'{dia} de {mes_str} de {ano}')\n",
        "\n",
        "\n",
        "# Bloco de execução para organização, teste e controle do comportamento do código\n",
        "if __name__ == '__main__':\n",
        "  data_por_extenso('01/12/2024')\n",
        ""
      ],
      "metadata": {
        "colab": {
          "base_uri": "https://localhost:8080/"
        },
        "id": "SaKc-Zk03bzj",
        "outputId": "44c61cd7-a1d0-4cb1-b563-b219654aa0f3"
      },
      "execution_count": 23,
      "outputs": [
        {
          "output_type": "stream",
          "name": "stdout",
          "text": [
            "1 de dezembro de 2024\n"
          ]
        }
      ]
    },
    {
      "cell_type": "markdown",
      "source": [
        "# Crie um programa que **tenha uma função** que **receba uma lista** de **inteiros** e **retorne o maior valor**."
      ],
      "metadata": {
        "id": "kstHbbaTgPWA"
      }
    },
    {
      "cell_type": "markdown",
      "source": [],
      "metadata": {
        "id": "zL_Z4uG8gdrg"
      }
    },
    {
      "cell_type": "code",
      "source": [
        "# Minha versão\n",
        "\n",
        "def maior_valor(*args: int) -> int:\n",
        "  return max(args)\n",
        "\n",
        "# Bloco de execução para organização, teste e controle do comportamento do código\n",
        "if __name__ == '__main__':\n",
        "  print(maior_valor(5,1,2,8,7,1))"
      ],
      "metadata": {
        "colab": {
          "base_uri": "https://localhost:8080/"
        },
        "id": "--8gT3qH0AJu",
        "outputId": "4bff6e6f-f4f3-448d-f0f5-a6177660f268"
      },
      "execution_count": 62,
      "outputs": [
        {
          "output_type": "stream",
          "name": "stdout",
          "text": [
            "8\n"
          ]
        }
      ]
    },
    {
      "cell_type": "code",
      "source": [
        "# Executando função\n",
        "maior_valor(4,3,8)"
      ],
      "metadata": {
        "colab": {
          "base_uri": "https://localhost:8080/"
        },
        "id": "gJcqmXCXcCep",
        "outputId": "0eb14833-d25a-4636-a800-4d551fb3a2c3"
      },
      "execution_count": 63,
      "outputs": [
        {
          "output_type": "execute_result",
          "data": {
            "text/plain": [
              "8"
            ]
          },
          "metadata": {},
          "execution_count": 63
        }
      ]
    },
    {
      "cell_type": "code",
      "source": [
        "# Gabarito\n",
        "\n",
        "def maior(inteiros: list[int]) -> int:\n",
        "  return max(inteiros)\n",
        "\n",
        "\n",
        "# Bloco de execução para organização, teste e controle do comportamento do código\n",
        "if __name__ == '__main__':\n",
        "  lista: list[int] = [4,3,8, 90, ]\n",
        "  print(max(lista))"
      ],
      "metadata": {
        "colab": {
          "base_uri": "https://localhost:8080/"
        },
        "id": "AD-iuFZLdAOx",
        "outputId": "28f8a37e-ee8b-4f06-89d6-f89e66d84b1b"
      },
      "execution_count": 5,
      "outputs": [
        {
          "output_type": "stream",
          "name": "stdout",
          "text": [
            "90\n"
          ]
        }
      ]
    }
  ]
}