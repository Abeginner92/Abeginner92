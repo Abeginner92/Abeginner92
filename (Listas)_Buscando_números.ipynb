{
  "nbformat": 4,
  "nbformat_minor": 0,
  "metadata": {
    "colab": {
      "provenance": [],
      "authorship_tag": "ABX9TyNWImprJJXjzhYt8hVESQBx",
      "include_colab_link": true
    },
    "kernelspec": {
      "name": "python3",
      "display_name": "Python 3"
    },
    "language_info": {
      "name": "python"
    }
  },
  "cells": [
    {
      "cell_type": "markdown",
      "metadata": {
        "id": "view-in-github",
        "colab_type": "text"
      },
      "source": [
        "<a href=\"https://colab.research.google.com/github/Abeginner92/Abeginner92/blob/main/(Listas)_Buscando_n%C3%BAmeros.ipynb\" target=\"_parent\"><img src=\"https://colab.research.google.com/assets/colab-badge.svg\" alt=\"Open In Colab\"/></a>"
      ]
    },
    {
      "cell_type": "code",
      "source": [
        "\n",
        "num = [1, 3, 4, 10, 32, 0.2]\n",
        "\n",
        "elemento_buscado = input(\"digite o número que deseja buscar: \")\n",
        "\n",
        "try:\n",
        "    elemento_buscado = int(elemento_buscado)\n",
        "except ValueError:\n",
        "    try:\n",
        "        elemento_buscado = float(elemento_buscado)\n",
        "    except ValueError:\n",
        "        print(\"Entrada inválida. Por favor, certifique-se de informar um número.\")\n",
        "        exit()\n",
        "\n",
        "# encontrado = False\n",
        "\n",
        "for i, elemento in enumerate(num):\n",
        "    if elemento == elemento_buscado:\n",
        "        print(f'Elemento encontrado na posição {i}')\n",
        "        # econtrado = True\n",
        "        break\n",
        "\n",
        "else:\n",
        "    print(f'O elemento {elemento_buscado} não foi encontrado na lista')\n",
        "\n",
        "\n"
      ],
      "metadata": {
        "colab": {
          "base_uri": "https://localhost:8080/"
        },
        "id": "NkfL5DrOpj85",
        "outputId": "18aa418a-76ec-4da6-91af-241e2a671ae5"
      },
      "execution_count": null,
      "outputs": [
        {
          "output_type": "stream",
          "name": "stdout",
          "text": [
            "digite o número que deseja buscar: 0.2\n",
            "Elemento encontrado na posição 5\n"
          ]
        }
      ]
    }
  ]
}